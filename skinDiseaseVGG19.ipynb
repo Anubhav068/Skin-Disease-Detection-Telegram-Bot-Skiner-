{
 "cells": [
  {
   "cell_type": "code",
   "execution_count": 9,
   "metadata": {
    "colab": {
     "base_uri": "https://localhost:8080/",
     "height": 34
    },
    "colab_type": "code",
    "executionInfo": {
     "elapsed": 2845,
     "status": "ok",
     "timestamp": 1553972614117,
     "user": {
      "displayName": "Bhumit Adivarekar",
      "photoUrl": "",
      "userId": "13900913606235889053"
     },
     "user_tz": -330
    },
    "id": "mbKohAaW-QAT",
    "outputId": "ebd5a7fe-c2ec-4e7d-fff9-b7cbb269ffe4"
   },
   "outputs": [],
   "source": [
    "from keras.applications.vgg19 import VGG19\n",
    "from keras.models import Model, load_model\n",
    "from keras.layers import Dense, GlobalAveragePooling2D, Flatten\n",
    "from __future__ import print_function\n",
    "from keras.datasets import cifar10\n",
    "from keras.preprocessing.image import ImageDataGenerator\n",
    "from keras.utils import np_utils\n",
    "from keras.callbacks import ReduceLROnPlateau, CSVLogger, EarlyStopping, ModelCheckpoint\n",
    "import matplotlib.pyplot as plt\n",
    "from PIL import Image\n",
    "import numpy as np\n",
    "%matplotlib inline"
   ]
  },
  {
   "cell_type": "code",
   "execution_count": 10,
   "metadata": {
    "colab": {
     "base_uri": "https://localhost:8080/",
     "height": 122
    },
    "colab_type": "code",
    "executionInfo": {
     "elapsed": 11924,
     "status": "ok",
     "timestamp": 1553972626621,
     "user": {
      "displayName": "Bhumit Adivarekar",
      "photoUrl": "",
      "userId": "13900913606235889053"
     },
     "user_tz": -330
    },
    "id": "EvkS7VTM-l1c",
    "outputId": "b6fcd443-a7b2-4372-e063-305da6436f8b"
   },
   "outputs": [],
   "source": [
    "classes = ['Acne and Rosacea Photos',\n",
    "           'Actinic Keratosis Basal Cell Carcinoma and other Malignant Lesions',\n",
    "           'Eczema Photos',\n",
    "           'Melanoma Skin Cancer Nevi and Moles',\n",
    "           'Psoriasis pictures Lichen Planus and related diseases', \n",
    "           'Tinea Ringworm Candidiasis and other Fungal Infections',\n",
    "           'Urticaria Hives', \n",
    "           'Nail Fungus and other Nail Disease']\n",
    "\n",
    "base_model = VGG19(include_top=False, weights='imagenet', input_shape=(32,32,3))\n",
    "\n",
    "for layer in base_model.layers[:-5]:\n",
    "  layer.trainable = False\n",
    "\n",
    "output = base_model.output\n",
    "x = GlobalAveragePooling2D()(output)\n",
    "x = Dense(1024, activation='relu')(x)\n",
    "x = Dense(8, activation='softmax')(x)\n",
    "\n",
    "model = Model(inputs=base_model.input, outputs=x)"
   ]
  },
  {
   "cell_type": "code",
   "execution_count": 11,
   "metadata": {
    "colab": {
     "base_uri": "https://localhost:8080/",
     "height": 2036
    },
    "colab_type": "code",
    "executionInfo": {
     "elapsed": 1376505,
     "status": "ok",
     "timestamp": 1553974006155,
     "user": {
      "displayName": "Bhumit Adivarekar",
      "photoUrl": "",
      "userId": "13900913606235889053"
     },
     "user_tz": -330
    },
    "id": "a9pa5YOY-foD",
    "outputId": "ae9f6d1e-fe07-43ae-e795-5b6d2405f87d"
   },
   "outputs": [
    {
     "name": "stdout",
     "output_type": "stream",
     "text": [
      "Found 7644 images belonging to 8 classes.\n",
      "Found 2016 images belonging to 8 classes.\n",
      "Epoch 1/20\n",
      "124/124 [==============================] - 199s 2s/step - loss: 1.9438 - accuracy: 0.2144 - val_loss: 1.7641 - val_accuracy: 0.3065\n",
      "\n",
      "Epoch 00001: val_loss improved from inf to 1.76414, saving model to vgg19_20epochs.h5\n",
      "Epoch 2/20\n",
      "124/124 [==============================] - 199s 2s/step - loss: 1.6833 - accuracy: 0.3368 - val_loss: 1.6026 - val_accuracy: 0.3795\n",
      "\n",
      "Epoch 00002: val_loss improved from 1.76414 to 1.60255, saving model to vgg19_20epochs.h5\n",
      "Epoch 3/20\n",
      "124/124 [==============================] - 208s 2s/step - loss: 1.6005 - accuracy: 0.3874 - val_loss: 1.5611 - val_accuracy: 0.4023\n",
      "\n",
      "Epoch 00003: val_loss improved from 1.60255 to 1.56113, saving model to vgg19_20epochs.h5\n",
      "Epoch 4/20\n",
      "124/124 [==============================] - 184s 1s/step - loss: 1.4980 - accuracy: 0.4283 - val_loss: 1.5973 - val_accuracy: 0.3854\n",
      "\n",
      "Epoch 00004: val_loss did not improve from 1.56113\n",
      "Epoch 5/20\n",
      "124/124 [==============================] - 181s 1s/step - loss: 1.4729 - accuracy: 0.4393 - val_loss: 1.4982 - val_accuracy: 0.4608\n",
      "\n",
      "Epoch 00005: val_loss improved from 1.56113 to 1.49815, saving model to vgg19_20epochs.h5\n",
      "Epoch 6/20\n",
      "124/124 [==============================] - 189s 2s/step - loss: 1.4296 - accuracy: 0.4741 - val_loss: 1.5374 - val_accuracy: 0.4320\n",
      "\n",
      "Epoch 00006: val_loss did not improve from 1.49815\n",
      "Epoch 7/20\n",
      "124/124 [==============================] - 216s 2s/step - loss: 1.4055 - accuracy: 0.4735 - val_loss: 1.4312 - val_accuracy: 0.4717\n",
      "\n",
      "Epoch 00007: val_loss improved from 1.49815 to 1.43117, saving model to vgg19_20epochs.h5\n",
      "Epoch 8/20\n",
      "124/124 [==============================] - 196s 2s/step - loss: 1.3592 - accuracy: 0.4893 - val_loss: 1.4433 - val_accuracy: 0.4663\n",
      "\n",
      "Epoch 00008: val_loss did not improve from 1.43117\n",
      "Epoch 9/20\n",
      "124/124 [==============================] - 204s 2s/step - loss: 1.3073 - accuracy: 0.5161 - val_loss: 1.4359 - val_accuracy: 0.4588\n",
      "\n",
      "Epoch 00009: val_loss did not improve from 1.43117\n",
      "Epoch 10/20\n",
      "124/124 [==============================] - 197s 2s/step - loss: 1.2801 - accuracy: 0.5285 - val_loss: 1.4488 - val_accuracy: 0.4737\n",
      "\n",
      "Epoch 00010: val_loss did not improve from 1.43117\n",
      "Epoch 11/20\n",
      "124/124 [==============================] - 223s 2s/step - loss: 1.2633 - accuracy: 0.5331 - val_loss: 1.4414 - val_accuracy: 0.4663\n",
      "\n",
      "Epoch 00011: val_loss did not improve from 1.43117\n",
      "Epoch 12/20\n",
      "124/124 [==============================] - 225s 2s/step - loss: 1.2574 - accuracy: 0.5369 - val_loss: 1.4239 - val_accuracy: 0.4851\n",
      "\n",
      "Epoch 00012: val_loss improved from 1.43117 to 1.42395, saving model to vgg19_20epochs.h5\n",
      "Epoch 13/20\n",
      "124/124 [==============================] - 205s 2s/step - loss: 1.2037 - accuracy: 0.5522 - val_loss: 1.4314 - val_accuracy: 0.4836\n",
      "\n",
      "Epoch 00013: val_loss did not improve from 1.42395\n",
      "Epoch 14/20\n",
      "124/124 [==============================] - 193s 2s/step - loss: 1.2368 - accuracy: 0.5409 - val_loss: 1.4541 - val_accuracy: 0.4802\n",
      "\n",
      "Epoch 00014: val_loss did not improve from 1.42395\n",
      "Epoch 15/20\n",
      "124/124 [==============================] - 205s 2s/step - loss: 1.2153 - accuracy: 0.5489 - val_loss: 1.4440 - val_accuracy: 0.4831\n",
      "\n",
      "Epoch 00015: val_loss did not improve from 1.42395\n",
      "Epoch 16/20\n",
      "124/124 [==============================] - 216s 2s/step - loss: 1.1489 - accuracy: 0.5787 - val_loss: 1.4076 - val_accuracy: 0.4896\n",
      "\n",
      "Epoch 00016: val_loss improved from 1.42395 to 1.40763, saving model to vgg19_20epochs.h5\n",
      "Epoch 17/20\n",
      "124/124 [==============================] - 201s 2s/step - loss: 1.1305 - accuracy: 0.5882 - val_loss: 1.4509 - val_accuracy: 0.4911\n",
      "\n",
      "Epoch 00017: val_loss did not improve from 1.40763\n",
      "Epoch 18/20\n",
      "124/124 [==============================] - 209s 2s/step - loss: 1.1210 - accuracy: 0.6030 - val_loss: 1.4478 - val_accuracy: 0.5089\n",
      "\n",
      "Epoch 00018: val_loss did not improve from 1.40763\n",
      "Epoch 19/20\n",
      "124/124 [==============================] - 199s 2s/step - loss: 1.1027 - accuracy: 0.5937 - val_loss: 1.4549 - val_accuracy: 0.5025\n",
      "\n",
      "Epoch 00019: val_loss did not improve from 1.40763\n",
      "Epoch 20/20\n",
      "124/124 [==============================] - 229s 2s/step - loss: 1.0863 - accuracy: 0.5994 - val_loss: 1.4066 - val_accuracy: 0.5169\n",
      "\n",
      "Epoch 00020: val_loss improved from 1.40763 to 1.40661, saving model to vgg19_20epochs.h5\n"
     ]
    },
    {
     "data": {
      "image/png": "[encoded data removed]",
      "text/plain": [
       "<Figure size 432x288 with 1 Axes>"
      ]
     },
     "metadata": {
      "needs_background": "light"
     },
     "output_type": "display_data"
    },
    {
     "data": {
      "image/png": "[encoded data removed]",
      "text/plain": [
       "<Figure size 432x288 with 1 Axes>"
      ]
     },
     "metadata": {
      "needs_background": "light"
     },
     "output_type": "display_data"
    }
   ],
   "source": [
    "lr_reducer = ReduceLROnPlateau(factor=np.sqrt(0.1), cooldown=0, patience=5, min_lr=0.5e-6)\n",
    "early_stopper = EarlyStopping(min_delta=0.001, patience=5)\n",
    "\n",
    "model_chkpt = ModelCheckpoint('vgg19_20epochs.h5',\n",
    "                              monitor='val_loss', verbose=1, \n",
    "                              save_best_only=True)\n",
    "batch_size = 32\n",
    "nb_classes = 23\n",
    "nb_epoch = 20\n",
    "data_augmentation = True\n",
    "\n",
    "# input image dimensions\n",
    "img_rows, img_cols = 32, 32\n",
    "# The CIFAR10 images are RGB.\n",
    "img_channels = 3\n",
    "train_path='C:/Users/KIIT/Downloads/NTT AI DATA HACKATHON/Practice/skin dataset/train'\n",
    "test_path='C:/Users/KIIT/Downloads/NTT AI DATA HACKATHON/Practice/skin dataset/test'\n",
    "# this is the augmentation configuration we will use for training\n",
    "train_datagen = ImageDataGenerator(\n",
    "    rescale=1. / 255,\n",
    "    shear_range=0.2,\n",
    "    zoom_range=0.2,\n",
    "    horizontal_flip=True)\n",
    "\n",
    "# this is the augmentation configuration we will use for testing:\n",
    "# only rescaling\n",
    "test_datagen = ImageDataGenerator(rescale=1. / 255)\n",
    "\n",
    "train_data=train_datagen.flow_from_directory(train_path,classes=classes,target_size=(32,32),batch_size=62)\n",
    "test_data=test_datagen.flow_from_directory(test_path,classes=classes,target_size=(32,32),batch_size=62)\n",
    "\n",
    "\n",
    "# model = resnet.ResnetBuilder.build_resnet_18((img_channels, img_rows, img_cols), nb_classes)\n",
    "# # model.summary()\n",
    "# model.compile(loss='categorical_crossentropy',\n",
    "#               optimizer='adam',\n",
    "#               metrics=['accuracy'])\n",
    "\n",
    "model.compile(loss='categorical_crossentropy', optimizer='adam', metrics=['accuracy'])\n",
    "history=model.fit_generator(train_data,steps_per_epoch=124,validation_data=test_data,validation_steps=33,epochs=20,verbose=1, callbacks=[lr_reducer, model_chkpt])\n",
    "model.save('final_vgg1920epochs.h5')\n",
    "# summarize history for accuracy\n",
    "plt.plot(history.history['accuracy'])\n",
    "plt.plot(history.history['val_accuracy'])\n",
    "plt.title('model accuracy')\n",
    "plt.ylabel('accuracy')\n",
    "plt.xlabel('epoch')\n",
    "plt.legend(['train', 'test'], loc='upper left')\n",
    "plt.show()\n",
    "# summarize history for loss\n",
    "plt.plot(history.history['loss'])\n",
    "plt.plot(history.history['val_loss'])\n",
    "plt.title('model loss')\n",
    "plt.ylabel('loss')\n",
    "plt.xlabel('epoch')\n",
    "plt.legend(['train', 'test'], loc='upper left')\n",
    "plt.show()"
   ]
  },
  {
   "cell_type": "code",
   "execution_count": 12,
   "metadata": {
    "colab": {
     "base_uri": "https://localhost:8080/",
     "height": 1251
    },
    "colab_type": "code",
    "executionInfo": {
     "elapsed": 698464,
     "status": "ok",
     "timestamp": 1553974875707,
     "user": {
      "displayName": "Bhumit Adivarekar",
      "photoUrl": "",
      "userId": "13900913606235889053"
     },
     "user_tz": -330
    },
    "id": "dFJwQK3-EwGx",
    "outputId": "91ee328f-34e1-4e8e-99e5-8f0275d596b3"
   },
   "outputs": [
    {
     "name": "stdout",
     "output_type": "stream",
     "text": [
      "Epoch 1/10\n",
      "124/124 [==============================] - 226s 2s/step - loss: 1.0697 - accuracy: 0.6098 - val_loss: 1.4038 - val_accuracy: 0.5278\n",
      "\n",
      "Epoch 00001: val_loss improved from 1.40661 to 1.40384, saving model to vgg19_20epochs.h5\n",
      "Epoch 2/10\n",
      "124/124 [==============================] - 224s 2s/step - loss: 1.0408 - accuracy: 0.6231 - val_loss: 1.4307 - val_accuracy: 0.5020\n",
      "\n",
      "Epoch 00002: val_loss did not improve from 1.40384\n",
      "Epoch 3/10\n",
      "124/124 [==============================] - 228s 2s/step - loss: 1.0221 - accuracy: 0.6243 - val_loss: 1.4295 - val_accuracy: 0.5377\n",
      "\n",
      "Epoch 00003: val_loss did not improve from 1.40384\n",
      "Epoch 4/10\n",
      "124/124 [==============================] - 229s 2s/step - loss: 0.9925 - accuracy: 0.6404 - val_loss: 1.4249 - val_accuracy: 0.5154\n",
      "\n",
      "Epoch 00004: val_loss did not improve from 1.40384\n",
      "Epoch 5/10\n",
      "124/124 [==============================] - 250s 2s/step - loss: 0.9787 - accuracy: 0.6450 - val_loss: 1.3872 - val_accuracy: 0.5223\n",
      "\n",
      "Epoch 00005: val_loss improved from 1.40384 to 1.38722, saving model to vgg19_20epochs.h5\n",
      "Epoch 6/10\n",
      "124/124 [==============================] - 252s 2s/step - loss: 0.9634 - accuracy: 0.6473 - val_loss: 1.3811 - val_accuracy: 0.5308\n",
      "\n",
      "Epoch 00006: val_loss improved from 1.38722 to 1.38106, saving model to vgg19_20epochs.h5\n",
      "Epoch 7/10\n",
      "124/124 [==============================] - 230s 2s/step - loss: 0.9638 - accuracy: 0.6523 - val_loss: 1.4421 - val_accuracy: 0.5223\n",
      "\n",
      "Epoch 00007: val_loss did not improve from 1.38106\n",
      "Epoch 8/10\n",
      "124/124 [==============================] - 234s 2s/step - loss: 0.9284 - accuracy: 0.6656 - val_loss: 1.4139 - val_accuracy: 0.5303\n",
      "\n",
      "Epoch 00008: val_loss did not improve from 1.38106\n",
      "Epoch 9/10\n",
      "124/124 [==============================] - 239s 2s/step - loss: 0.9038 - accuracy: 0.6726 - val_loss: 1.4448 - val_accuracy: 0.5382\n",
      "\n",
      "Epoch 00009: val_loss did not improve from 1.38106\n",
      "Epoch 10/10\n",
      "124/124 [==============================] - 212s 2s/step - loss: 0.8974 - accuracy: 0.6787 - val_loss: 1.3912 - val_accuracy: 0.5511\n",
      "\n",
      "Epoch 00010: val_loss did not improve from 1.38106\n"
     ]
    },
    {
     "data": {
      "image/png": "[encoded data removed]",
      "text/plain": [
       "<Figure size 432x288 with 1 Axes>"
      ]
     },
     "metadata": {
      "needs_background": "light"
     },
     "output_type": "display_data"
    },
    {
     "data": {
      "image/png": "[encoded data removed]",
      "text/plain": [
       "<Figure size 432x288 with 1 Axes>"
      ]
     },
     "metadata": {
      "needs_background": "light"
     },
     "output_type": "display_data"
    }
   ],
   "source": [
    "model = load_model('final_vgg1920epochs.h5', compile='True')\n",
    "history=model.fit(train_data,steps_per_epoch=124,validation_data=test_data,validation_steps=33,epochs=10,verbose=1, callbacks=[lr_reducer, model_chkpt])\n",
    "model.save('final_vgg1930epochs.h5')\n",
    "# summarize history for accuracy\n",
    "plt.plot(history.history['accuracy'])\n",
    "plt.plot(history.history['val_accuracy'])\n",
    "plt.title('model accuracy')\n",
    "plt.ylabel('accuracy')\n",
    "plt.xlabel('epoch')\n",
    "plt.legend(['train', 'test'], loc='upper left')\n",
    "plt.show()\n",
    "# summarize history for loss\n",
    "plt.plot(history.history['loss'])\n",
    "plt.plot(history.history['val_loss'])\n",
    "plt.title('model loss')\n",
    "plt.ylabel('loss')\n",
    "plt.xlabel('epoch')\n",
    "plt.legend(['train', 'test'], loc='upper left')\n",
    "plt.show()"
   ]
  },
  {
   "cell_type": "code",
   "execution_count": 13,
   "metadata": {
    "colab": {},
    "colab_type": "code",
    "id": "Y2F1NHroEyr7"
   },
   "outputs": [],
   "source": [
    "model = load_model('final_vgg1920epochs.h5', compile=True)"
   ]
  },
  {
   "cell_type": "code",
   "execution_count": 14,
   "metadata": {
    "colab": {
     "base_uri": "https://localhost:8080/",
     "height": 34
    },
    "colab_type": "code",
    "executionInfo": {
     "elapsed": 1425,
     "status": "ok",
     "timestamp": 1553975299345,
     "user": {
      "displayName": "Bhumit Adivarekar",
      "photoUrl": "",
      "userId": "13900913606235889053"
     },
     "user_tz": -330
    },
    "id": "pgITQqCKH15c",
    "outputId": "cb3615ed-f90a-4d42-bdef-240963fca8f5"
   },
   "outputs": [
    {
     "name": "stdout",
     "output_type": "stream",
     "text": [
      "[[0.01628524 0.02681169 0.31334776 0.01144875 0.2912899  0.11379299\n",
      "  0.19872822 0.02829547]]\n"
     ]
    }
   ],
   "source": [
    "import cv2\n",
    "img = 'C:/Users/KIIT/Downloads/NTT AI DATA HACKATHON/Practice/skin dataset/test/Actinic Keratosis Basal Cell Carcinoma and other Malignant Lesions/actinic-keratosis-arm-3.jpg'\n",
    "img = cv2.resize(cv2.imread(img), (32,32)) / 255.0\n",
    "prediction = model.predict(img.reshape(1,32,32,3))\n",
    "print(prediction)"
   ]
  },
  {
   "cell_type": "code",
   "execution_count": 16,
   "metadata": {
    "colab": {
     "base_uri": "https://localhost:8080/",
     "height": 34
    },
    "colab_type": "code",
    "executionInfo": {
     "elapsed": 1452,
     "status": "ok",
     "timestamp": 1553975463562,
     "user": {
      "displayName": "Bhumit Adivarekar",
      "photoUrl": "",
      "userId": "13900913606235889053"
     },
     "user_tz": -330
    },
    "id": "Sjq7dR7mJaUG",
    "outputId": "41a22c09-bd02-445b-b2b1-e5048ab54a13"
   },
   "outputs": [
    {
     "name": "stdout",
     "output_type": "stream",
     "text": [
      "[[0.0000000e+00 0.0000000e+00 1.7821271e-24 0.0000000e+00 0.0000000e+00\n",
      "  0.0000000e+00 0.0000000e+00 1.0000000e+00]]\n"
     ]
    }
   ],
   "source": [
    "import cv2\n",
    "img = 'C:/Users/KIIT/Downloads/NTT AI DATA HACKATHON/Practice/skin dataset/test/Acne and Rosacea Photos/07Rhinophyma1.jpg'\n",
    "img = cv2.resize(cv2.imread(img), (32,32))\n",
    "prediction = model.predict(img.reshape(1,32,32,3))\n",
    "print(prediction)"
   ]
  },
  {
   "cell_type": "code",
   "execution_count": null,
   "metadata": {
    "colab": {
     "base_uri": "https://localhost:8080/",
     "height": 51
    },
    "colab_type": "code",
    "executionInfo": {
     "elapsed": 1284,
     "status": "ok",
     "timestamp": 1553975624200,
     "user": {
      "displayName": "Bhumit Adivarekar",
      "photoUrl": "",
      "userId": "13900913606235889053"
     },
     "user_tz": -330
    },
    "id": "lcvSjC0NINmi",
    "outputId": "5e4b3796-edbd-4c96-9a8d-31463d27478f"
   },
   "outputs": [],
   "source": [
    "import cv2\n",
    "img = 'test/Psoriasis pictures Lichen Planus and related diseases/08PsoriasisPinking1.jpg'\n",
    "img = cv2.resize(cv2.imread(img), (32,32))\n",
    "prediction = model.predict(img.reshape(1,32,32,3))\n",
    "print(prediction)"
   ]
  },
  {
   "cell_type": "code",
   "execution_count": null,
   "metadata": {
    "colab": {
     "base_uri": "https://localhost:8080/",
     "height": 34
    },
    "colab_type": "code",
    "executionInfo": {
     "elapsed": 17443,
     "status": "ok",
     "timestamp": 1553975752921,
     "user": {
      "displayName": "Bhumit Adivarekar",
      "photoUrl": "",
      "userId": "13900913606235889053"
     },
     "user_tz": -330
    },
    "id": "_CAaS2jeKqVq",
    "outputId": "a5e41d26-edf8-48c2-e07a-ad2c88cefcca"
   },
   "outputs": [],
   "source": [
    "import cv2\n",
    "img = 'test/Nail Fungus and other Nail Disease/habit-tic-deformity-19.jpg'\n",
    "img = cv2.resize(cv2.imread(img), (32,32))\n",
    "prediction = model.predict(img.reshape(1,32,32,3))\n",
    "print(prediction)"
   ]
  },
  {
   "cell_type": "code",
   "execution_count": null,
   "metadata": {
    "colab": {
     "base_uri": "https://localhost:8080/",
     "height": 34
    },
    "colab_type": "code",
    "executionInfo": {
     "elapsed": 1700,
     "status": "ok",
     "timestamp": 1553975894670,
     "user": {
      "displayName": "Bhumit Adivarekar",
      "photoUrl": "",
      "userId": "13900913606235889053"
     },
     "user_tz": -330
    },
    "id": "jD7U4Aq0LIt7",
    "outputId": "1655af35-1027-48ae-8923-1489d3b6ac01"
   },
   "outputs": [],
   "source": [
    "import cv2\n",
    "img = 'test/Tinea Ringworm Candidiasis and other Fungal Infections/tinea-body-109.jpg'\n",
    "img = cv2.resize(cv2.imread(img), (32,32))\n",
    "prediction = model.predict(img.reshape(1,32,32,3))\n",
    "print(prediction.argmax())"
   ]
  },
  {
   "cell_type": "code",
   "execution_count": null,
   "metadata": {
    "colab": {},
    "colab_type": "code",
    "id": "omjkySNbQ4NO"
   },
   "outputs": [],
   "source": [
    "!cp \"final_vgg1920epochs.h5\" \"C:/Users/KIIT/Downloads/NTT AI DATA HACKATHON/Practice/final_vgg1920epochs.h5\""
   ]
  },
  {
   "cell_type": "code",
   "execution_count": null,
   "metadata": {
    "colab": {},
    "colab_type": "code",
    "id": "R2xvSLkJRBd9"
   },
   "outputs": [],
   "source": [
    "!cp \"/content/drive/My Drive/SkinDataset/test.zip\" \"test.zip\""
   ]
  }
 ],
 "metadata": {
  "accelerator": "GPU",
  "colab": {
   "collapsed_sections": [],
   "name": "skinDiseaseVGG19.ipynb",
   "provenance": [],
   "version": "0.3.2"
  },
  "kernelspec": {
   "display_name": "Python 3",
   "language": "python",
   "name": "python3"
  },
  "language_info": {
   "codemirror_mode": {
    "name": "ipython",
    "version": 3
   },
   "file_extension": ".py",
   "mimetype": "text/x-python",
   "name": "python",
   "nbconvert_exporter": "python",
   "pygments_lexer": "ipython3",
   "version": "3.8.5"
  }
 },
 "nbformat": 4,
 "nbformat_minor": 1
}
